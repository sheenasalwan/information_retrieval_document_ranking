{
 "metadata": {
  "language_info": {
   "codemirror_mode": {
    "name": "ipython",
    "version": 3
   },
   "file_extension": ".py",
   "mimetype": "text/x-python",
   "name": "python",
   "nbconvert_exporter": "python",
   "pygments_lexer": "ipython3",
   "version": "3.8.5"
  },
  "orig_nbformat": 2,
  "kernelspec": {
   "name": "python385jvsc74a57bd09e4a8429c4e7e9f6e8a15740397db094a8f32270810108f02abed355fa39b1d7",
   "display_name": "Python 3.8.5 64-bit ('base': conda)"
  }
 },
 "nbformat": 4,
 "nbformat_minor": 2,
 "cells": [
  {
   "cell_type": "code",
   "execution_count": 1,
   "metadata": {},
   "outputs": [],
   "source": [
    "import pandas as pd\n",
    "from data_extractor import DataExtractor\n",
    "from data_extractor import TorchDataset"
   ]
  },
  {
   "cell_type": "code",
   "execution_count": 3,
   "metadata": {},
   "outputs": [
    {
     "output_type": "execute_result",
     "data": {
      "text/plain": [
       "data_extractor.TorchDataset"
      ]
     },
     "metadata": {},
     "execution_count": 3
    }
   ],
   "source": [
    "dataset = TorchDataset(file_name = \"./data/small.triplets.train.tsv\", \n",
    "                       queries_path = \"./data/small.queries.all.tsv\", \n",
    "                       passages_path = \"./data/small.passages.all.tsv\")\n",
    "type(dataset)"
   ]
  },
  {
   "cell_type": "code",
   "execution_count": 3,
   "metadata": {},
   "outputs": [
    {
     "output_type": "execute_result",
     "data": {
      "text/plain": [
       "('cost behavior is considered linear whenever',\n",
       " 'Cost behavior is said to be linear whenever a straight line is a reasonable approximation for the relation between cost and activity.ost behavior is said to be linear whenever a straight line is a reasonable approximation for the relation between cost and activity.',\n",
       " 'Linear regression attempts to model the relationship between two variables by fitting a linear equation to observed data. One variable is considered to be an explanatory variable, and the other is considered to be a dependent variable.')"
      ]
     },
     "metadata": {},
     "execution_count": 3
    }
   ],
   "source": [
    "dataset.__getitem__(9000)"
   ]
  },
  {
   "cell_type": "code",
   "execution_count": 4,
   "metadata": {},
   "outputs": [
    {
     "output_type": "execute_result",
     "data": {
      "text/plain": [
       "('where we can use static members',\n",
       " \"They do not have names, and they can be instantiated only once. The following is an example of an anonymous class: Because an anonymous class doesn't have a normal class declaration where it's possible to use static, it cannot be declared static. 2. Local.\",\n",
       " 'Dynamic means the force is in motion. As opposed to a static force that is not in motion. Torque is an example of a dynamic force, where a rotating shaft imparts a dynamic for â\\x80¦ ce to a machine. Weight is an example of a static force, where a mass sitting on the ground is acted on by the acceleration of gravity imparting a static force on the ground.')"
      ]
     },
     "metadata": {},
     "execution_count": 4
    }
   ],
   "source": [
    "dataset.__getitem__(15000)"
   ]
  }
 ]
}