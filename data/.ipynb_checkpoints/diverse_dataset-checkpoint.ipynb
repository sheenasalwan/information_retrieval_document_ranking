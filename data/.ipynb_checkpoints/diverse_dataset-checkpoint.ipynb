{
 "cells": [
  {
   "cell_type": "markdown",
   "metadata": {},
   "source": [
    "# Building a small dataset "
   ]
  },
  {
   "cell_type": "markdown",
   "metadata": {},
   "source": [
    "- Step:\n",
    "    Download: Triplets, queries, and passages\n",
    "    https://msmarco.blob.core.windows.net/msmarcoranking/qidpidtriples.train.full.2.tsv.gz\n",
    "    https://msmarco.blob.core.windows.net/msmarcoranking/queries.tar.gz\n",
    "    https://msmarco.blob.core.windows.net/msmarcoranking/collection.tar.gz\n",
    "\n",
    "- extract gz file"
   ]
  },
  {
   "cell_type": "code",
   "execution_count": 90,
   "metadata": {},
   "outputs": [
    {
     "name": "stdout",
     "output_type": "stream",
     "text": [
      "Total number of queries: 5057\n",
      "Total number of passages: 102765\n"
     ]
    }
   ],
   "source": [
    "from functools import reduce\n",
    "import numpy as np\n",
    "\n",
    "NUM_QUERIES = 5000\n",
    "NUM_TRIPLETS_PER_QUERIY = 20\n",
    "\n",
    "with open(\"./qidpidtriples.train.full.2.tsv\") as f:\n",
    "    \n",
    "    qids = {}\n",
    "    passage_id_set = set()\n",
    "    output_string = \"\"\n",
    "    \n",
    "    line = None\n",
    "    while True:\n",
    "        line = f.readline()\n",
    "        triplet = line.strip().split(\"\\t\")\n",
    "        qid = int(triplet[0])\n",
    "        \n",
    "        if qid not in qids:\n",
    "            qids[qid] = 0\n",
    "            if (\n",
    "                len(qids) >= NUM_QUERIES + 1 and \n",
    "                count_nonzero(array(list(qids.values())) >= NUM_TRIPLETS_PER_QUERIY) > NUM_QUERIES\n",
    "            ):\n",
    "                del qids[qid]\n",
    "                break\n",
    "        elif qids.get(qid, 0) >= NUM_TRIPLETS_PER_QUERIY:\n",
    "            continue\n",
    "            \n",
    "        qids[qid] += 1    \n",
    "        passage_id_set.add(int(triplet[1]))\n",
    "        passage_id_set.add(int(triplet[2]))\n",
    "        output_string += line\n",
    "        \n",
    "print(f\"Total number of queries: {len(qids)}\")\n",
    "print(f\"Total number of passages: {len(passage_id_set)}\")\n",
    "\n",
    "with open(\"./diverse.triplets.all.tsv\", \"w\") as f:\n",
    "    f.write(output_string)"
   ]
  },
  {
   "cell_type": "markdown",
   "metadata": {},
   "source": [
    "## Generate query and passage mapping"
   ]
  },
  {
   "cell_type": "code",
   "execution_count": 44,
   "metadata": {},
   "outputs": [
    {
     "name": "stdout",
     "output_type": "stream",
     "text": [
      "102765\n"
     ]
    }
   ],
   "source": [
    "passage_mapping = {}\n",
    "passage_id_set_clone = passage_id_set.copy()\n",
    "with open(\"./passages.train.tsv\") as f:\n",
    "    line = f.readline()\n",
    "    while line:\n",
    "        id, text = line.strip().split(\"\\t\")\n",
    "        id = int(id)\n",
    "        if id in passage_id_set_clone:\n",
    "            passage_mapping[id] = text \n",
    "            passage_id_set_clone.remove(id)\n",
    "        if not passage_id_set_clone:\n",
    "            break\n",
    "        line = f.readline()\n",
    "\n",
    "with open('diverse.passages.all.tsv', 'w') as f:\n",
    "    for k,v in passsage_mapping.items():\n",
    "        f.write(f\"{k}\\t{v}\\n\")\n",
    "        \n",
    "print(len(passage_mapping))"
   ]
  },
  {
   "cell_type": "code",
   "execution_count": 45,
   "metadata": {},
   "outputs": [
    {
     "name": "stdout",
     "output_type": "stream",
     "text": [
      "5057\n"
     ]
    }
   ],
   "source": [
    "query_mapping = {}\n",
    "query_id_set_clone = set(qids.keys()).copy()\n",
    "with open(\"./queries.train.tsv\") as f:\n",
    "    line = f.readline()\n",
    "    while line:\n",
    "        id, text = line.strip().split(\"\\t\")\n",
    "        id = int(id)\n",
    "        if id in query_id_set_clone:\n",
    "            query_mapping[id] = text \n",
    "            query_id_set_clone.remove(id)\n",
    "        if not query_id_set_clone:\n",
    "            break\n",
    "        line = f.readline()\n",
    "\n",
    "with open('diverse.queries.all.tsv', 'w') as f:\n",
    "    for k,v in query_mapping.items():\n",
    "        f.write(f\"{k}\\t{v}\\n\")\n",
    "        \n",
    "print(len(query_mapping))"
   ]
  },
  {
   "cell_type": "markdown",
   "metadata": {},
   "source": [
    "## Split the small dataset to train/dev/test "
   ]
  },
  {
   "cell_type": "code",
   "execution_count": 76,
   "metadata": {},
   "outputs": [],
   "source": [
    "import math\n",
    "\n",
    "num_queries = len(qids)\n",
    "train_split = math.ceil(num_queries * 0.7)\n",
    "dev_split = math.ceil(num_queries * 0.9)\n",
    "\n",
    "with open(\"./diverse.triplets.all.tsv\") as f:\n",
    "    qids = set()\n",
    "    line_num = 0\n",
    "    \n",
    "    while line := f.readline():\n",
    "        triplet = line.strip().split(\"\\t\")\n",
    "        qid = int(triplet[0])\n",
    "        line_num += 1\n",
    "        \n",
    "        qids.add(qid)\n",
    "        if len(qids) == train_split + 1:\n",
    "            train_line_split = line_num\n",
    "        elif len(qids) == dev_split + 1:\n",
    "            dev_line_split = line_num\n",
    "\n",
    "!head -n {train_line_split} diverse.triplets.all.tsv > diverse.triplets.train.tsv\n",
    "!head -n {dev_line_split} diverse.triplets.all.tsv | tail -n {dev_line_split - train_line_split} > diverse.triplets.dev.tsv\n",
    "!tail -n {line_num - dev_line_split} diverse.triplets.all.tsv > diverse.triplets.test.tsv"
   ]
  },
  {
   "cell_type": "code",
   "execution_count": 2,
   "metadata": {},
   "outputs": [
    {
     "output_type": "stream",
     "name": "stdout",
     "text": [
      "Train set queries: 3541\nTrain set passages: 72231\nDev set queries: 1012\nDev set passages: 20871\nTest set queries: 504\nTest set passages: 10540\n\nOverlapping queries between train and dev: set()\nOverlapping queries between train and test: set()\nOverlapping queries between dev and test: set()\n"
     ]
    }
   ],
   "source": [
    "with open(\"./diverse.triplets.train.tsv\") as f:\n",
    "    train_qids = set()\n",
    "    train_pids = set()\n",
    "\n",
    "    while line := f.readline():\n",
    "        triplet = line.strip().split(\"\\t\")\n",
    "        train_qids.add(int(triplet[0]))\n",
    "        train_pids.add(int(triplet[1]))\n",
    "        train_pids.add(int(triplet[2]))\n",
    "with open(\"./diverse.triplets.dev.tsv\") as f:\n",
    "    dev_qids = set()\n",
    "    dev_pids = set()\n",
    "    while line := f.readline():\n",
    "        triplet = line.strip().split(\"\\t\")\n",
    "        dev_qids.add(int(triplet[0]))\n",
    "        dev_pids.add(int(triplet[1]))\n",
    "        dev_pids.add(int(triplet[2]))\n",
    "        \n",
    "with open(\"./diverse.triplets.test.tsv\") as f:\n",
    "    test_qids = set()\n",
    "    test_pids = set()\n",
    "    while line := f.readline():\n",
    "        triplet = line.strip().split(\"\\t\")\n",
    "        test_qids.add(int(triplet[0]))\n",
    "        test_pids.add(int(triplet[1]))\n",
    "        test_pids.add(int(triplet[2]))\n",
    "\n",
    "\n",
    "print(\"Train set queries:\", len(train_qids))\n",
    "print(\"Train set passages:\", len(train_pids))\n",
    "print(\"Dev set queries:\", len(dev_qids))\n",
    "print(\"Dev set passages:\", len(dev_pids))\n",
    "print(\"Test set queries:\", len(test_qids))\n",
    "print(\"Test set passages:\", len(test_pids))\n",
    "print()\n",
    "        \n",
    "print(\"Overlapping queries between train and dev:\", train_qids & dev_qids)\n",
    "print(\"Overlapping queries between train and test:\", train_qids & test_qids)\n",
    "print(\"Overlapping queries between dev and test:\", test_qids & dev_qids)"
   ]
  },
  {
   "cell_type": "code",
   "execution_count": null,
   "metadata": {},
   "outputs": [],
   "source": []
  }
 ],
 "metadata": {
  "kernelspec": {
   "name": "python385jvsc74a57bd09e4a8429c4e7e9f6e8a15740397db094a8f32270810108f02abed355fa39b1d7",
   "display_name": "Python 3.8.5 64-bit ('base': conda)"
  },
  "language_info": {
   "codemirror_mode": {
    "name": "ipython",
    "version": 3
   },
   "file_extension": ".py",
   "mimetype": "text/x-python",
   "name": "python",
   "nbconvert_exporter": "python",
   "pygments_lexer": "ipython3",
   "version": "3.8.5"
  }
 },
 "nbformat": 4,
 "nbformat_minor": 4
}