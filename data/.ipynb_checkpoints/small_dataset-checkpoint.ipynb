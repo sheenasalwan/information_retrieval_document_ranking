{
 "cells": [
  {
   "cell_type": "markdown",
   "metadata": {},
   "source": [
    "# Building a small dataset "
   ]
  },
  {
   "source": [
    "- Step:\n",
    "    Download: Triplets, queries, and passages\n",
    "    https://msmarco.blob.core.windows.net/msmarcoranking/qidpidtriples.train.full.2.tsv.gz\n",
    "    https://msmarco.blob.core.windows.net/msmarcoranking/queries.tar.gz\n",
    "    https://msmarco.blob.core.windows.net/msmarcoranking/collection.tar.gz\n",
    "\n",
    "- extract gz file"
   ],
   "cell_type": "markdown",
   "metadata": {}
  },
  {
   "cell_type": "code",
   "execution_count": 55,
   "metadata": {},
   "outputs": [
    {
     "name": "stdout",
     "output_type": "stream",
     "text": [
      "Total line number of the file: 100273\n",
      "Training set stops at line 71952\n",
      "Validation set stops at line 91281\n",
      "Total Query of small dataset 100\n",
      "Total Passages of small dataset 93529\n"
     ]
    }
   ],
   "source": [
    "NUM_QUERIES = 100\n",
    "\n",
    "with open(\"./qidpidtriples.train.full.2.tsv\") as f:\n",
    "    line = f.readline()\n",
    "    line_num, query_count = 0, 0\n",
    "    \n",
    "    train_line_stop = 0\n",
    "    dev_line_stop = 0\n",
    "    \n",
    "    prev_qid = -1\n",
    "    query_id_set = set()\n",
    "    passage_id_set = set()\n",
    "\n",
    "    while line:\n",
    "        triplet = line.strip().split(\"\\t\")\n",
    "        if triplet[0] != prev_qid:\n",
    "            prev_qid = int(triplet[0])\n",
    "            query_id_set.add(prev_qid)\n",
    "            \n",
    "            if len(query_id_set) == int(NUM_QUERIES*0.7)+1:\n",
    "                train_line_stop = line_num\n",
    "            elif len(query_id_set) == int(NUM_QUERIES*0.9)+1:\n",
    "                dev_line_stop = line_num\n",
    "            elif len(query_id_set) == NUM_QUERIES+1:\n",
    "                query_id_set.remove(prev_qid)\n",
    "                break\n",
    "        line_num += 1        \n",
    "        passage_id_set.add(int(triplet[1]))\n",
    "        passage_id_set.add(int(triplet[2]))\n",
    "        \n",
    "        line = f.readline()\n",
    "    print(f\"Total line number of the file: {line_num}\")\n",
    "    print(f\"Training set stops at line {train_line_stop}\")\n",
    "    print(f\"Validation set stops at line {dev_line_stop}\")\n",
    "    print(f\"Total Query of small dataset {len(query_id_set)}\")\n",
    "    print(f\"Total Passages of small dataset {len(passage_id_set)}\")\n",
    "        "
   ]
  },
  {
   "cell_type": "markdown",
   "metadata": {},
   "source": [
    "Spliting the small dataset to train/dev/test "
   ]
  },
  {
   "cell_type": "code",
   "execution_count": 54,
   "metadata": {},
   "outputs": [
    {
     "name": "stdout",
     "output_type": "stream",
     "text": [
      "1049289\t5969791\t6559676\n",
      "1049289\t5969791\t8418500\n",
      "1049289\t5969791\t554564\n",
      "1049289\t5969791\t2012794\n",
      "1049289\t5969791\t729821\n",
      "1049289\t5969791\t8831550\n",
      "1049289\t5969791\t255308\n",
      "1049289\t5969791\t3866214\n",
      "1049289\t5969791\t7619370\n",
      "1049398\t2255270\t2558948\n"
     ]
    }
   ],
   "source": [
    "!head -n {line_num} qidpidtriples.train.full.2.tsv > small.triplets.all.tsv\n",
    "!head -n {train_line_stop} qidpidtriples.train.full.2.tsv > small.triplets.train.tsv\n",
    "!head -n {dev_line_stop} qidpidtriples.train.full.2.tsv | tail -n {dev_line_stop - train_line_stop} > small.triplets.dev.tsv\n",
    "!head -n {line_num} qidpidtriples.train.full.2.tsv | tail -n {line_num - dev_line_stop} > small.triplets.test.tsv\n",
    "!head -n {line_num + 1} qidpidtriples.train.full.2.tsv | tail"
   ]
  },
  {
   "cell_type": "markdown",
   "metadata": {},
   "source": [
    "Reading in mapping of query_id:text and passage_id:text"
   ]
  },
  {
   "cell_type": "code",
   "execution_count": 35,
   "metadata": {},
   "outputs": [],
   "source": [
    "passsage_mapping = {}\n",
    "passage_id_set_clone = passage_id_set.copy()\n",
    "with open(\"./passages.train.tsv\") as f:\n",
    "    line = f.readline()\n",
    "    while line:\n",
    "        id, text = line.strip().split(\"\\t\")\n",
    "        id = int(id)\n",
    "        if id in passage_id_set_clone:\n",
    "            passsage_mapping[id] = text \n",
    "            passage_id_set_clone.remove(id)\n",
    "        if not passage_id_set_clone:\n",
    "            break\n",
    "        line = f.readline()"
   ]
  },
  {
   "cell_type": "code",
   "execution_count": 41,
   "metadata": {},
   "outputs": [
    {
     "data": {
      "text/plain": [
       "\"Plantar warts are caused by the human papillomavirus or HPV. Unfortunately, there is no vaccine for the strain of HPV that causes plantar warts. Let's go over the signs, symptoms, and treatment options of plantar warts. Signs & Symptoms. As we already learned, one of the symptoms of plantar warts is pain, especially when walking or standing.\""
      ]
     },
     "execution_count": 41,
     "metadata": {},
     "output_type": "execute_result"
    }
   ],
   "source": [
    "passsage_mapping[8831550]"
   ]
  },
  {
   "cell_type": "code",
   "execution_count": 37,
   "metadata": {},
   "outputs": [
    {
     "data": {
      "text/plain": [
       "93529"
      ]
     },
     "execution_count": 37,
     "metadata": {},
     "output_type": "execute_result"
    }
   ],
   "source": [
    "len(passsage_mapping)"
   ]
  },
  {
   "cell_type": "code",
   "execution_count": 44,
   "metadata": {},
   "outputs": [],
   "source": [
    "with open('small.passages.all.tsv', 'w') as f:\n",
    "    for k,v in passsage_mapping.items():\n",
    "        f.write(f\"{k}\\t{v}\\n\")"
   ]
  },
  {
   "cell_type": "code",
   "execution_count": 38,
   "metadata": {},
   "outputs": [],
   "source": [
    "query_mapping = {}\n",
    "query_id_set_clone = query_id_set.copy()\n",
    "with open(\"./queries.train.tsv\") as f:\n",
    "    line = f.readline()\n",
    "    while line:\n",
    "        id, text = line.strip().split(\"\\t\")\n",
    "        id = int(id)\n",
    "        if id in query_id_set_clone:\n",
    "            query_mapping[id] = text \n",
    "            query_id_set_clone.remove(id)\n",
    "        if not query_id_set_clone:\n",
    "            break\n",
    "        line = f.readline()"
   ]
  },
  {
   "cell_type": "code",
   "execution_count": 39,
   "metadata": {},
   "outputs": [
    {
     "data": {
      "text/plain": [
       "100"
      ]
     },
     "execution_count": 39,
     "metadata": {},
     "output_type": "execute_result"
    }
   ],
   "source": [
    "len(query_mapping)"
   ]
  },
  {
   "cell_type": "code",
   "execution_count": 40,
   "metadata": {},
   "outputs": [
    {
     "data": {
      "text/plain": [
       "'who removes plantar warts'"
      ]
     },
     "execution_count": 40,
     "metadata": {},
     "output_type": "execute_result"
    }
   ],
   "source": [
    "query_mapping[1049289]"
   ]
  },
  {
   "cell_type": "code",
   "execution_count": 43,
   "metadata": {},
   "outputs": [],
   "source": [
    "with open('small.queries.all.tsv', 'w') as f:\n",
    "    for k,v in query_mapping.items():\n",
    "        f.write(f\"{k}\\t{v}\\n\")"
   ]
  },
  {
   "cell_type": "code",
   "execution_count": null,
   "metadata": {},
   "outputs": [],
   "source": []
  }
 ],
 "metadata": {
  "kernelspec": {
   "display_name": "Python 3",
   "language": "python",
   "name": "python3"
  },
  "language_info": {
   "codemirror_mode": {
    "name": "ipython",
    "version": 3
   },
   "file_extension": ".py",
   "mimetype": "text/x-python",
   "name": "python",
   "nbconvert_exporter": "python",
   "pygments_lexer": "ipython3",
   "version": "3.8.5"
  }
 },
 "nbformat": 4,
 "nbformat_minor": 4
}